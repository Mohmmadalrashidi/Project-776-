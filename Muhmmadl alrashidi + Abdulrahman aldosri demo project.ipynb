{
  "nbformat": 4,
  "nbformat_minor": 0,
  "metadata": {
    "colab": {
      "provenance": [],
      "collapsed_sections": []
    },
    "kernelspec": {
      "name": "python3",
      "display_name": "Python 3"
    },
    "language_info": {
      "name": "python"
    }
  },
  "cells": [
    {
      "cell_type": "markdown",
      "source": [
        "from learntools.core import binder; binder.bind(globals())\n",
        "from learntools.python.ex4 import *\n",
        "print('Setup complete.')"
      ],
      "metadata": {
        "id": "_mFqYTTLvQCy"
      }
    },
    {
      "cell_type": "markdown",
      "source": [
        "Complete the function below according to its docstring."
      ],
      "metadata": {
        "id": "mXOtaozWvVsy"
      }
    },
    {
      "cell_type": "code",
      "source": [
        "def select_second(L):\n",
        "    \"\"\"Return the second element of the given list. If the list has no second\n",
        "    element, return None.\n",
        "    \"\"\"\n",
        "    if len(L)<2:\n",
        "        return None\n",
        "    else: \n",
        "        return L[1]\n",
        "\n",
        "# Check your answer\n"
      ],
      "metadata": {
        "id": "Koa38BzGvU82"
      },
      "execution_count": 36,
      "outputs": []
    },
    {
      "cell_type": "markdown",
      "source": [
        "Setup Complete"
      ],
      "metadata": {
        "id": "1qGAlKg2xg1R"
      }
    },
    {
      "cell_type": "markdown",
      "source": [
        " Python starts counting at 0. So the second item isn't indexed with a 2"
      ],
      "metadata": {
        "id": "slqx_vrivlXv"
      }
    },
    {
      "cell_type": "code",
      "source": [
        "def select_second(L):\n",
        "    if len(L) < 2:\n",
        "        return None\n",
        "    return L[1]"
      ],
      "metadata": {
        "id": "hSNa562Gvn9v"
      },
      "execution_count": 37,
      "outputs": []
    },
    {
      "cell_type": "markdown",
      "source": [
        "You are analyzing sports teams. Members of each team are stored in a list. The Coach is the first name in the list, the captain is the second name in the list, and other players are listed after that. These lists are stored in another list, which starts with the best team and proceeds through the list to the worst team last. Complete the function below to select the captain of the worst team."
      ],
      "metadata": {
        "id": "NPXTQLp7vrxQ"
      }
    },
    {
      "cell_type": "code",
      "source": [
        "def losing_team_captain(teams):\n",
        "    \"\"\"Given a list of teams, where each team is a list of names, return the 2nd player (captain)\n",
        "    from the last listed team\n",
        "    \"\"\"\n",
        "    return teams[-1][1]\n",
        "\n"
      ],
      "metadata": {
        "id": "qLZ8bh2-vvnx"
      },
      "execution_count": 38,
      "outputs": []
    },
    {
      "cell_type": "markdown",
      "source": [
        "The last item in a list L can be selected with L[-1]. The first item in the first sublist would be selected as L[0][0]"
      ],
      "metadata": {
        "id": "_Hjh9y06v2Ee"
      }
    },
    {
      "cell_type": "code",
      "source": [
        "def losing_team_captain(teams):\n",
        "    return teams[-1][1]"
      ],
      "metadata": {
        "id": "-A8ZcWn3v7SA"
      },
      "execution_count": 39,
      "outputs": []
    },
    {
      "cell_type": "markdown",
      "source": [
        "The next iteration of Mario Kart will feature an extra-infuriating new item, the Purple Shell. When used, it warps the last place racer into first place and the first place racer into last place. Complete the function below to implement the Purple Shell's effect."
      ],
      "metadata": {
        "id": "NqYZ8tKKv933"
      }
    },
    {
      "cell_type": "code",
      "source": [
        "def purple_shell(racers):\n",
        "    \"\"\"Given a list of racers, set the first place racer (at the front of the list) to last\n",
        "    place and vice versa.\n",
        "    \n",
        "    >>> r = [\"Mario\", \"Bowser\", \"Luigi\"]\n",
        "    >>> purple_shell(r)\n",
        "    >>> r\n",
        "    [\"Luigi\", \"Bowser\", \"Mario\"]\n",
        "    \"\"\"\n",
        "    c=racers[0]\n",
        "    racers[0]=racers[-1]\n",
        "    racers[-1]=c\n",
        "\n",
        "# Check your answer\n"
      ],
      "metadata": {
        "id": "kYi4QEfgv-0T"
      },
      "execution_count": 40,
      "outputs": []
    },
    {
      "cell_type": "code",
      "source": [
        "def purple_shell(racers):\n",
        "    # One slick way to do the swap is x[0], x[-1] = x[-1], x[0].\n",
        "    temp = racers[0]\n",
        "    racers[0] = racers[-1]\n",
        "    racers[-1] = temp"
      ],
      "metadata": {
        "id": "iOW-baRqwF-A"
      },
      "execution_count": 41,
      "outputs": []
    },
    {
      "cell_type": "markdown",
      "source": [
        "What are the lengths of the following lists? Fill in the variable lengths with your predictions. (Try to make a prediction for each list without just calling len() on it.)\n",
        "\n"
      ],
      "metadata": {
        "id": "jzjeADNPwJyh"
      }
    },
    {
      "cell_type": "code",
      "source": [
        "a = [1, 2, 3]\n",
        "b = [1, [2, 3]]\n",
        "c = []\n",
        "d = [1, 2, 3][1:]\n",
        "\n",
        "# Put your predictions in the list below. Lengths should contain 4 numbers, the\n",
        "# first being the length of a, the second being the length of b and so on.\n",
        "lengths = [3,2,0,2]\n",
        "\n",
        "# Check your answer\n",
        "\n"
      ],
      "metadata": {
        "id": "422DB-eEwKV1"
      },
      "execution_count": 42,
      "outputs": []
    },
    {
      "cell_type": "markdown",
      "source": [
        "a: There are three items in this list. Nothing tricky yet.\n",
        "b: The list [2, 3] counts as a single item. It has one item before it. So we have 2 items in the list\n",
        "c: The empty list has 0 items\n",
        "d: The expression is the same as the list [2, 3], which has length 2."
      ],
      "metadata": {
        "id": "8MIBIcKXwly0"
      }
    },
    {
      "cell_type": "code",
      "source": [
        "d = [1, 2, 3][1:]\n",
        "len(d)"
      ],
      "metadata": {
        "colab": {
          "base_uri": "https://localhost:8080/"
        },
        "id": "IBSYkNbvwnto",
        "outputId": "62d8ba11-c5ff-4a26-a9ee-b1ab716ce1c2"
      },
      "execution_count": 43,
      "outputs": [
        {
          "output_type": "execute_result",
          "data": {
            "text/plain": [
              "2"
            ]
          },
          "metadata": {},
          "execution_count": 43
        }
      ]
    },
    {
      "cell_type": "code",
      "source": [
        "# line below provides some explanation\n"
      ],
      "metadata": {
        "id": "5nbEuccIwsSD"
      },
      "execution_count": 44,
      "outputs": []
    },
    {
      "cell_type": "markdown",
      "source": [
        "Solution:\n",
        "\n",
        "a: There are three items in this list. Nothing tricky yet.\n",
        "b: The list [2, 3] counts as a single item. It has one item before it. So we have 2 items in the list\n",
        "c: The empty list has 0 items\n",
        "d: The expression is the same as the list [2, 3], which has length 2."
      ],
      "metadata": {
        "id": "QZpp8gseww6F"
      }
    },
    {
      "cell_type": "markdown",
      "source": [
        "e're using lists to record people who attended our party and what order they arrived in. For example, the following list represents a party with 7 guests, in which Adela showed up first and Ford was the last to arrive:"
      ],
      "metadata": {
        "id": "otsPzCDYwzW8"
      }
    },
    {
      "cell_type": "code",
      "source": [
        "party_attendees = ['Adela', 'Fleda', 'Owen', 'May', 'Mona', 'Gilbert', 'Ford']"
      ],
      "metadata": {
        "id": "EtgXySnsw00q"
      },
      "execution_count": 45,
      "outputs": []
    },
    {
      "cell_type": "markdown",
      "source": [
        "Complete the function below which takes a list of party attendees as well as a person, and tells us whether that person is fashionably late."
      ],
      "metadata": {
        "id": "4jBSSwXpw5um"
      }
    },
    {
      "cell_type": "code",
      "source": [
        "def fashionably_late(arrivals, name):\n",
        "    \"\"\"Given an ordered list of arrivals to the party and a name, return whether the guest with that\n",
        "    name was fashionably late.\n",
        "    \"\"\"\n",
        "    order=arrivals.index(name)\n",
        "    return order>=len(arrivals)/2 and order!=len(arrivals)-1\n",
        "\n",
        "# Check your answer\n"
      ],
      "metadata": {
        "id": "hEVYFYsVw7WM"
      },
      "execution_count": 46,
      "outputs": []
    },
    {
      "cell_type": "markdown",
      "source": [
        "Use the index method to find when the person arrived. Check whether that is a fashionably late spot given the list length (len). Think about 0-indexing"
      ],
      "metadata": {
        "id": "LcSHFC-Ew_3F"
      }
    },
    {
      "cell_type": "code",
      "source": [
        "def fashionably_late(arrivals, name):\n",
        "    order = arrivals.index(name)\n",
        "    return order >= len(arrivals) / 2 and order != len(arrivals) - 1"
      ],
      "metadata": {
        "id": "AisGqtFVxCBO"
      },
      "execution_count": 47,
      "outputs": []
    }
  ]
}